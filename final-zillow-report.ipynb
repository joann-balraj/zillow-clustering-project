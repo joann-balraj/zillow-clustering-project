{
 "cells": [
  {
   "cell_type": "markdown",
   "id": "3d5736c9",
   "metadata": {},
   "source": [
    "# Zillow Report\n",
    "### By: Joann Balraj\n",
    "#### December 13, 2021"
   ]
  },
  {
   "cell_type": "markdown",
   "id": "b9e87d62",
   "metadata": {},
   "source": [
    " ![Image of Zillow Logo](https://theme.zdassets.com/theme_assets/512712/5675f10a90572d0f4140b0b39e72e4905bce34ee.jpg)"
   ]
  },
  {
   "cell_type": "markdown",
   "id": "a94f9d62",
   "metadata": {},
   "source": [
    "# Estimating Home Value"
   ]
  },
  {
   "cell_type": "markdown",
   "id": "ab961fbb",
   "metadata": {},
   "source": [
    "## Goals\n",
    "- Predict values of single unit properties that the tax district access using the property data from those whose last transaction was during 2017\n",
    "- Obtain States and Counties of properties\n",
    "- Obtain tax rates for each country\n",
    "- Provide distribution of tax rates for each county"
   ]
  },
  {
   "cell_type": "markdown",
   "id": "5caf4d16",
   "metadata": {},
   "source": [
    "## Hypotheses\n",
    "- There is not a linear correlation between square footage of home and tax value.\n",
    "- There is not a linear correlation between bedrooms and tax value.\n",
    "- There is not a linear correlation between bathrooms and tax value.\n",
    "- There is not a difference between tax value between Los Angeles and Orange County\n",
    "\n",
    "#### Imports needed:"
   ]
  },
  {
   "cell_type": "code",
   "execution_count": 2,
   "id": "dba9d0a1",
   "metadata": {},
   "outputs": [],
   "source": [
    "## python files that contain the functions to aquire and prep the data\n",
    "import wrangle\n",
    "import explore\n",
    "import model\n",
    "import pandas as pd\n",
    "import numpy as np\n",
    "\n",
    "# import python libraries\n",
    "import pandas as pd\n",
    "import numpy as np\n",
    "import matplotlib.pyplot as plt\n",
    "import seaborn as sns\n",
    "from scipy import stats\n",
    "from math import sqrt\n",
    "import math\n",
    "\n",
    "# scikit learn\n",
    "from sklearn.metrics import mean_squared_error, r2_score, explained_variance_score\n",
    "from sklearn.linear_model import LinearRegression, LassoLars, TweedieRegressor\n",
    "from sklearn.preprocessing import PolynomialFeatures\n",
    "from sklearn.model_selection import train_test_split\n",
    "import sklearn.preprocessing\n",
    "from sklearn.feature_selection import SelectKBest, f_regression\n",
    "from sklearn.feature_selection import RFE\n",
    "\n",
    "#visulization settings\n",
    "import graphviz\n",
    "from sklearn.tree import export_graphviz\n",
    "import matplotlib.style as style \n",
    "style.available\n",
    "style.use('seaborn-talk') #sets the size of the charts\n",
    "style.use('seaborn-colorblind') #sets color of charts\n",
    "\n",
    "#warnings\n",
    "import warnings\n",
    "warnings.filterwarnings(\"ignore\")"
   ]
  },
  {
   "cell_type": "code",
   "execution_count": 3,
   "id": "bd4bf850",
   "metadata": {},
   "outputs": [],
   "source": [
    "df = wrangle.clean_zillow(wrangle.get_zillow_data())"
   ]
  },
  {
   "cell_type": "code",
   "execution_count": 6,
   "id": "b838c74f",
   "metadata": {},
   "outputs": [],
   "source": [
    "#Change fips to county names now that we know where they come from\n",
    "df.rename(columns={\"fips\": \"ca_county\"}, inplace=True)"
   ]
  },
  {
   "cell_type": "code",
   "execution_count": 7,
   "id": "18ae25be",
   "metadata": {},
   "outputs": [],
   "source": [
    "df['ca_county'] = df['ca_county'].map({6037: 'Los Angeles', 6059: 'Orange', 6111: 'Ventura'})"
   ]
  },
  {
   "cell_type": "code",
   "execution_count": 8,
   "id": "dcfdafc9",
   "metadata": {},
   "outputs": [
    {
     "data": {
      "text/html": [
       "<div>\n",
       "<style scoped>\n",
       "    .dataframe tbody tr th:only-of-type {\n",
       "        vertical-align: middle;\n",
       "    }\n",
       "\n",
       "    .dataframe tbody tr th {\n",
       "        vertical-align: top;\n",
       "    }\n",
       "\n",
       "    .dataframe thead th {\n",
       "        text-align: right;\n",
       "    }\n",
       "</style>\n",
       "<table border=\"1\" class=\"dataframe\">\n",
       "  <thead>\n",
       "    <tr style=\"text-align: right;\">\n",
       "      <th></th>\n",
       "      <th>bedrooms</th>\n",
       "      <th>bathrooms</th>\n",
       "      <th>square_feet</th>\n",
       "      <th>tax_value</th>\n",
       "    </tr>\n",
       "    <tr>\n",
       "      <th>parcelid</th>\n",
       "      <th></th>\n",
       "      <th></th>\n",
       "      <th></th>\n",
       "      <th></th>\n",
       "    </tr>\n",
       "  </thead>\n",
       "  <tbody>\n",
       "    <tr>\n",
       "      <th>14297519</th>\n",
       "      <td>4</td>\n",
       "      <td>3.5</td>\n",
       "      <td>3100.0</td>\n",
       "      <td>1023282.0</td>\n",
       "    </tr>\n",
       "    <tr>\n",
       "      <th>17052889</th>\n",
       "      <td>2</td>\n",
       "      <td>1.0</td>\n",
       "      <td>1465.0</td>\n",
       "      <td>464000.0</td>\n",
       "    </tr>\n",
       "    <tr>\n",
       "      <th>14186244</th>\n",
       "      <td>3</td>\n",
       "      <td>2.0</td>\n",
       "      <td>1243.0</td>\n",
       "      <td>564778.0</td>\n",
       "    </tr>\n",
       "    <tr>\n",
       "      <th>12177905</th>\n",
       "      <td>4</td>\n",
       "      <td>3.0</td>\n",
       "      <td>2376.0</td>\n",
       "      <td>145143.0</td>\n",
       "    </tr>\n",
       "    <tr>\n",
       "      <th>10887214</th>\n",
       "      <td>3</td>\n",
       "      <td>3.0</td>\n",
       "      <td>1312.0</td>\n",
       "      <td>119407.0</td>\n",
       "    </tr>\n",
       "  </tbody>\n",
       "</table>\n",
       "</div>"
      ],
      "text/plain": [
       "          bedrooms  bathrooms  square_feet  tax_value\n",
       "parcelid                                             \n",
       "14297519         4        3.5       3100.0  1023282.0\n",
       "17052889         2        1.0       1465.0   464000.0\n",
       "14186244         3        2.0       1243.0   564778.0\n",
       "12177905         4        3.0       2376.0   145143.0\n",
       "10887214         3        3.0       1312.0   119407.0"
      ]
     },
     "execution_count": 8,
     "metadata": {},
     "output_type": "execute_result"
    }
   ],
   "source": [
    "mvp = df.copy()\n",
    "mvp.drop(['yearbuilt', 'county', 'zip_code', 'ca_county', 'latitude','longitude', 'taxamount', 'property_age', 'tax_rate'], axis=1, inplace=True)\n",
    "mvp.head()"
   ]
  },
  {
   "cell_type": "markdown",
   "id": "f61a83b1",
   "metadata": {},
   "source": [
    "# Explore\n",
    "### Split:\n",
    "- Data is split into train, validate, and test dataframes"
   ]
  },
  {
   "cell_type": "code",
   "execution_count": 9,
   "id": "95f06a3b",
   "metadata": {},
   "outputs": [],
   "source": [
    "train, validate, test, X_train, y_train, X_validate, y_validate, X_test, y_test = wrangle.train_validate_test_split(mvp,'tax_value', 123)"
   ]
  },
  {
   "cell_type": "markdown",
   "id": "bbfad979",
   "metadata": {},
   "source": [
    "### Scale:\n",
    "- will scale all numeric features to normalize the numeric range"
   ]
  },
  {
   "cell_type": "code",
   "execution_count": 10,
   "id": "6e1d35ba",
   "metadata": {},
   "outputs": [],
   "source": [
    "scaler, X_train_scaled, X_validate_scaled, X_test_scaled = wrangle.Standard_Scaler(X_train, X_validate, X_test)"
   ]
  },
  {
   "cell_type": "markdown",
   "id": "cc98f938",
   "metadata": {},
   "source": [
    "---"
   ]
  },
  {
   "cell_type": "code",
   "execution_count": 12,
   "id": "9ce2d58b",
   "metadata": {},
   "outputs": [],
   "source": [
    "#create a handy dataframe for evaluating models or model and baseline value\n",
    "#turn series into df\n",
    "y_train = pd.DataFrame(y_train)\n",
    "y_validate = pd.DataFrame(y_validate)"
   ]
  },
  {
   "cell_type": "code",
   "execution_count": 14,
   "id": "992b2467",
   "metadata": {},
   "outputs": [],
   "source": [
    "# predict the median for ytrain and yvalidate\n",
    "baseline_median = y_train['tax_value'].median()\n",
    "y_train['baseline_median'] = baseline_median\n",
    "y_validate['baseline_median'] = baseline_median\n",
    "#predict the mean for ytrain and yvalidate\n",
    "baseline_mean = y_train['tax_value'].mean()\n",
    "y_train['baseline_mean'] = baseline_mean\n",
    "y_validate['baseline_mean'] = baseline_mean"
   ]
  },
  {
   "cell_type": "code",
   "execution_count": 15,
   "id": "f31c83f1",
   "metadata": {},
   "outputs": [
    {
     "name": "stdout",
     "output_type": "stream",
     "text": [
      "RMSE using Mean\n",
      "Train/In-Sample:  642444.76 \n",
      "Validate/Out-of-Sample:  724108.89\n",
      "RMSE using Median\n",
      "Train/In-Sample:  655946.78 \n",
      "Validate/Out-of-Sample:  736290.58\n"
     ]
    }
   ],
   "source": [
    "# RMSE of pred_mean\n",
    "rmse_train = mean_squared_error(y_train.tax_value, y_train.baseline_mean) ** .5\n",
    "rmse_validate = mean_squared_error(y_validate.tax_value, y_validate.baseline_mean) ** (1/2)\n",
    "\n",
    "print(\"RMSE using Mean\\nTrain/In-Sample: \", round(rmse_train, 2), \n",
    "      \"\\nValidate/Out-of-Sample: \", round(rmse_validate, 2))\n",
    "\n",
    "# RMSE of pred_median\n",
    "rmse_train = mean_squared_error(y_train.tax_value, y_train.baseline_median) ** .5\n",
    "rmse_validate = mean_squared_error(y_validate.tax_value, y_validate.baseline_median) ** .5\n",
    "print(\"RMSE using Median\\nTrain/In-Sample: \", round(rmse_train, 2), \n",
    "      \"\\nValidate/Out-of-Sample: \", round(rmse_validate, 2))"
   ]
  },
  {
   "cell_type": "markdown",
   "id": "9ed57f87",
   "metadata": {},
   "source": [
    "## Train and Validate\n",
    "#### Linear Regression OLS"
   ]
  },
  {
   "cell_type": "code",
   "execution_count": 16,
   "id": "92370843",
   "metadata": {},
   "outputs": [],
   "source": [
    "#make the thing\n",
    "lm = LinearRegression(normalize=True)\n",
    "#fit the thing\n",
    "#only fit on training\n",
    "lm.fit(X_train, y_train.tax_value)\n",
    "#use the thing\n",
    "y_train['pred_lm'] = lm.predict(X_train)"
   ]
  },
  {
   "cell_type": "code",
   "execution_count": 17,
   "id": "9640ac99",
   "metadata": {},
   "outputs": [],
   "source": [
    "rmse_train_lm = mean_squared_error(y_train.tax_value, y_train.pred_lm)**(0.5)\n",
    "# predict validate\n",
    "y_validate['pred_lm'] = lm.predict(X_validate)\n",
    "# evaluate: rmse\n",
    "rmse_validate_lm = mean_squared_error(y_validate.tax_value, y_validate.pred_lm)**(0.5)"
   ]
  },
  {
   "cell_type": "code",
   "execution_count": 18,
   "id": "6235e435",
   "metadata": {},
   "outputs": [
    {
     "name": "stdout",
     "output_type": "stream",
     "text": [
      "\n",
      "BASELINE:\n",
      "              \n",
      "RMSE using Median\n",
      "Train/In-Sample: 655946.78\n",
      "Validate/Out-of-Sample: 736290.58\n",
      "------------------------------------\n",
      "RMSE for OLS using LinearRegression:\n",
      "    \n",
      "Training/In-Sample: 501695.26\n",
      "Validation/Out-of-Sample: 593433.03\n",
      "\n"
     ]
    }
   ],
   "source": [
    "print(f'''\n",
    "BASELINE:\n",
    "              \n",
    "RMSE using Median\n",
    "Train/In-Sample: {round(rmse_train, 2)}\n",
    "Validate/Out-of-Sample: {round(rmse_validate, 2)}\n",
    "------------------------------------\n",
    "RMSE for OLS using LinearRegression:\n",
    "    \n",
    "Training/In-Sample: {round(rmse_train_lm, 2)}\n",
    "Validation/Out-of-Sample: {round(rmse_validate_lm, 2)}\n",
    "''')"
   ]
  },
  {
   "cell_type": "markdown",
   "id": "be0e7bbd",
   "metadata": {},
   "source": [
    "## LassoLars"
   ]
  },
  {
   "cell_type": "code",
   "execution_count": 19,
   "id": "4e2d8d08",
   "metadata": {},
   "outputs": [],
   "source": [
    "#make the thing\n",
    "lars = LassoLars(alpha=1.0)\n",
    "#fit the thing\n",
    "lars.fit(X_train, y_train.tax_value)\n",
    "#predict the thing: train\n",
    "y_train['pred_lars'] = lars.predict(X_train)\n",
    "# evaluate: rmse\n",
    "rmse_train_lars = mean_squared_error(y_train.tax_value, y_train.pred_lars)**(0.5)\n",
    "# predict the thing: validate\n",
    "y_validate['pred_lars'] = lars.predict(X_validate)\n",
    "# evaluate: rmse\n",
    "rmse_validate_lars = mean_squared_error(y_validate.tax_value, y_validate.pred_lars)**(0.5)"
   ]
  },
  {
   "cell_type": "code",
   "execution_count": 20,
   "id": "5cf41bb9",
   "metadata": {},
   "outputs": [
    {
     "name": "stdout",
     "output_type": "stream",
     "text": [
      "\n",
      "BASELINE:\n",
      "              \n",
      "RMSE using Median\n",
      "Train/In-Sample: 655946.78\n",
      "Validate/Out-of-Sample: 736290.58\n",
      "------------------------------------\n",
      "RMSE for OLS using LinearRegression:\n",
      "    \n",
      "Training/In-Sample: 501695.26\n",
      "Validation/Out-of-Sample: 593433.03\n",
      "------------------------------------\n",
      "RMSE for LassoLars:\n",
      "\n",
      "Training/In-Sample: 501695.54\n",
      "Validation/Out-of-Sample: 593427.35\n",
      "\n"
     ]
    }
   ],
   "source": [
    "print(f'''\n",
    "BASELINE:\n",
    "              \n",
    "RMSE using Median\n",
    "Train/In-Sample: {round(rmse_train, 2)}\n",
    "Validate/Out-of-Sample: {round(rmse_validate, 2)}\n",
    "------------------------------------\n",
    "RMSE for OLS using LinearRegression:\n",
    "    \n",
    "Training/In-Sample: {round(rmse_train_lm, 2)}\n",
    "Validation/Out-of-Sample: {round(rmse_validate_lm, 2)}\n",
    "------------------------------------\n",
    "RMSE for LassoLars:\n",
    "\n",
    "Training/In-Sample: {round(rmse_train_lars, 2)}\n",
    "Validation/Out-of-Sample: {round(rmse_validate_lars, 2)}\n",
    "''')"
   ]
  },
  {
   "cell_type": "markdown",
   "id": "04886586",
   "metadata": {},
   "source": [
    "## Tweedie Regressor"
   ]
  },
  {
   "cell_type": "code",
   "execution_count": 21,
   "id": "d8a66219",
   "metadata": {},
   "outputs": [],
   "source": [
    "#make the thing\n",
    "glm = TweedieRegressor(power=1, alpha=0)\n",
    "#fit the thing \n",
    "glm.fit(X_train, y_train.tax_value)\n",
    "#predict the thing: train\n",
    "y_train['pred_glm'] = glm.predict(X_train)\n",
    "# evaluate: rmse\n",
    "rmse_train_glm = mean_squared_error(y_train.tax_value, y_train.pred_glm)**(0.5)\n",
    "#predict the thing: validate\n",
    "# predict validate\n",
    "y_validate['pred_glm'] = glm.predict(X_validate)\n",
    "# evaluate: rmse\n",
    "rmse_validate_glm = mean_squared_error(y_validate.tax_value, y_validate.pred_glm)**(0.5)"
   ]
  },
  {
   "cell_type": "code",
   "execution_count": 22,
   "id": "5045a8f4",
   "metadata": {},
   "outputs": [
    {
     "name": "stdout",
     "output_type": "stream",
     "text": [
      "\n",
      "BASELINE:\n",
      "              \n",
      "RMSE using Median\n",
      "Train/In-Sample: 655946.78\n",
      "Validate/Out-of-Sample: 736290.58\n",
      "------------------------------------\n",
      "RMSE for OLS using LinearRegression:\n",
      "    \n",
      "Training/In-Sample: 501695.26\n",
      "Validation/Out-of-Sample: 593433.03\n",
      "------------------------------------\n",
      "RMSE for LassoLars:\n",
      "\n",
      "Training/In-Sample: 501695.54\n",
      "Validation/Out-of-Sample: 593427.35\n",
      "------------------------------------\n",
      "RMSE for GLM using Tweedie, power=1 & alpha=0:\n",
      "\n",
      "Training/In-Sample: 642444.76\n",
      "Validation/Out-of-Sample: 724108.89\n",
      "\n"
     ]
    }
   ],
   "source": [
    "print(f'''\n",
    "BASELINE:\n",
    "              \n",
    "RMSE using Median\n",
    "Train/In-Sample: {round(rmse_train, 2)}\n",
    "Validate/Out-of-Sample: {round(rmse_validate, 2)}\n",
    "------------------------------------\n",
    "RMSE for OLS using LinearRegression:\n",
    "    \n",
    "Training/In-Sample: {round(rmse_train_lm, 2)}\n",
    "Validation/Out-of-Sample: {round(rmse_validate_lm, 2)}\n",
    "------------------------------------\n",
    "RMSE for LassoLars:\n",
    "\n",
    "Training/In-Sample: {round(rmse_train_lars, 2)}\n",
    "Validation/Out-of-Sample: {round(rmse_validate_lars, 2)}\n",
    "------------------------------------\n",
    "RMSE for GLM using Tweedie, power=1 & alpha=0:\n",
    "\n",
    "Training/In-Sample: {round(rmse_train_glm, 2)}\n",
    "Validation/Out-of-Sample: {round(rmse_validate_glm, 2)}\n",
    "''')"
   ]
  },
  {
   "cell_type": "markdown",
   "id": "9147f63e",
   "metadata": {},
   "source": [
    "## Polynomial Regression"
   ]
  },
  {
   "cell_type": "code",
   "execution_count": 23,
   "id": "54d99b0a",
   "metadata": {},
   "outputs": [],
   "source": [
    "# make the polynomial features to get a new set of features\n",
    "pf = PolynomialFeatures(degree=2)\n",
    "# fit and transform X_train_scaled\n",
    "X_train_degree2 = pf.fit_transform(X_train)\n",
    "# transform X_validate_scaled & X_test_scaled\n",
    "X_validate_degree2 = pf.transform(X_validate)\n",
    "X_test_degree2 = pf.transform(X_test)"
   ]
  },
  {
   "cell_type": "code",
   "execution_count": 25,
   "id": "f6ad383a",
   "metadata": {},
   "outputs": [],
   "source": [
    "# create the model object\n",
    "lm2 = LinearRegression(normalize=True)\n",
    "# fit the model to our training data. We must specify the column in y_train, \n",
    "# since we have converted it to a dataframe from a series! \n",
    "lm2.fit(X_train_degree2, y_train.tax_value)\n",
    "# predict train\n",
    "y_train['pred_lm2'] = lm2.predict(X_train_degree2)\n",
    "# evaluate: rmse\n",
    "rmse_train_lm2 = mean_squared_error(y_train.tax_value, y_train.pred_lm2)**(0.5)\n",
    "# predict validate\n",
    "y_validate['pred_lm2'] = lm2.predict(X_validate_degree2)\n",
    "# evaluate: rmse\n",
    "rmse_validate_lm2 = mean_squared_error(y_validate.tax_value, y_validate.pred_lm2)**(0.5)"
   ]
  },
  {
   "cell_type": "code",
   "execution_count": 26,
   "id": "b1c337fb",
   "metadata": {},
   "outputs": [
    {
     "name": "stdout",
     "output_type": "stream",
     "text": [
      "\n",
      "BASELINE:\n",
      "              \n",
      "RMSE using Median\n",
      "Train/In-Sample: 655946.78\n",
      "Validate/Out-of-Sample: 736290.58\n",
      "------------------------------------\n",
      "RMSE for OLS using LinearRegression:\n",
      "    \n",
      "Training/In-Sample: 501695.26\n",
      "Validation/Out-of-Sample: 593433.03\n",
      "------------------------------------\n",
      "RMSE for LassoLars:\n",
      "\n",
      "Training/In-Sample: 501695.54\n",
      "Validation/Out-of-Sample: 593427.35\n",
      "------------------------------------\n",
      "RMSE for GLM using Tweedie, power=1 & alpha=0:\n",
      "\n",
      "Training/In-Sample: 642444.76\n",
      "Validation/Out-of-Sample: 724108.89\n",
      "------------------------------------\n",
      "RMSE for Polynomial Model, degrees=2:\n",
      "\n",
      "Training/In-Sample: 478871.47\n",
      "Validation/Out-of-Sample: 531701.34\n",
      "\n",
      "\n"
     ]
    }
   ],
   "source": [
    "print(f'''\n",
    "BASELINE:\n",
    "              \n",
    "RMSE using Median\n",
    "Train/In-Sample: {round(rmse_train, 2)}\n",
    "Validate/Out-of-Sample: {round(rmse_validate, 2)}\n",
    "------------------------------------\n",
    "RMSE for OLS using LinearRegression:\n",
    "    \n",
    "Training/In-Sample: {round(rmse_train_lm, 2)}\n",
    "Validation/Out-of-Sample: {round(rmse_validate_lm, 2)}\n",
    "------------------------------------\n",
    "RMSE for LassoLars:\n",
    "\n",
    "Training/In-Sample: {round(rmse_train_lars, 2)}\n",
    "Validation/Out-of-Sample: {round(rmse_validate_lars, 2)}\n",
    "------------------------------------\n",
    "RMSE for GLM using Tweedie, power=1 & alpha=0:\n",
    "\n",
    "Training/In-Sample: {round(rmse_train_glm, 2)}\n",
    "Validation/Out-of-Sample: {round(rmse_validate_glm, 2)}\n",
    "------------------------------------\n",
    "RMSE for Polynomial Model, degrees=2:\n",
    "\n",
    "Training/In-Sample: {round(rmse_train_lm2, 2)}\n",
    "Validation/Out-of-Sample: {round(rmse_validate_lm2, 2)}\n",
    "\n",
    "''')"
   ]
  },
  {
   "cell_type": "markdown",
   "id": "916ae796",
   "metadata": {},
   "source": [
    "## Evaluate\n",
    "### Plotting Actual vs. Predicted Values"
   ]
  },
  {
   "cell_type": "code",
   "execution_count": 29,
   "id": "711fc835",
   "metadata": {},
   "outputs": [
    {
     "data": {
      "image/png": "[encoded data removed]",
      "text/plain": [
       "<Figure size 1152x576 with 1 Axes>"
      ]
     },
     "metadata": {
      "needs_background": "light"
     },
     "output_type": "display_data"
    }
   ],
   "source": [
    "# y_validate.head()\n",
    "plt.figure(figsize=(16,8))\n",
    "plt.plot(y_validate.tax_value, y_validate.baseline_mean, alpha=.5, color=\"gray\", label='_nolegend_')\n",
    "plt.annotate(\"Baseline: Predict Using Mean\", (16, 9.5))\n",
    "plt.plot(y_validate.tax_value, y_validate.tax_value, alpha=.5, color=\"blue\", label='_nolegend_')\n",
    "plt.annotate(\"The Ideal Line: Predicted = Actual\", (.5, 3.5), rotation=15.5)\n",
    "\n",
    "plt.scatter(y_validate.tax_value, y_validate.pred_lm, \n",
    "            alpha=.5, color=\"red\", s=100, label=\"Model: LinearRegression\")\n",
    "plt.scatter(y_validate.tax_value, y_validate.pred_glm, \n",
    "            alpha=.5, color=\"yellow\", s=100, label=\"Model: TweedieRegressor\")\n",
    "plt.scatter(y_validate.tax_value, y_validate.pred_lm2, \n",
    "            alpha=.5, color=\"green\", s=100, label=\"Model 2nd degree Polynomial\")\n",
    "plt.legend()\n",
    "plt.xlabel(\"Actual Tax Value\")\n",
    "plt.ylabel(\"Predicted Tax Value\")\n",
    "plt.title(\"Where are predictions more extreme? More modest?\");\n",
    "#plt.annotate(\"The polynomial model appears to overreact to noise\", (2.0, -10))\n",
    "#plt.annotate(\"The OLS model (LinearRegression)\\n appears to be most consistent\", (15.5, 3));"
   ]
  },
  {
   "cell_type": "code",
   "execution_count": 30,
   "id": "771ae44e",
   "metadata": {},
   "outputs": [
    {
     "data": {
      "text/html": [
       "<div>\n",
       "<style scoped>\n",
       "    .dataframe tbody tr th:only-of-type {\n",
       "        vertical-align: middle;\n",
       "    }\n",
       "\n",
       "    .dataframe tbody tr th {\n",
       "        vertical-align: top;\n",
       "    }\n",
       "\n",
       "    .dataframe thead th {\n",
       "        text-align: right;\n",
       "    }\n",
       "</style>\n",
       "<table border=\"1\" class=\"dataframe\">\n",
       "  <thead>\n",
       "    <tr style=\"text-align: right;\">\n",
       "      <th></th>\n",
       "      <th>model</th>\n",
       "      <th>RMSE_validate</th>\n",
       "      <th>r^2_validate</th>\n",
       "    </tr>\n",
       "  </thead>\n",
       "  <tbody>\n",
       "    <tr>\n",
       "      <th>0</th>\n",
       "      <td>median_baseline</td>\n",
       "      <td>736290.584878</td>\n",
       "      <td>0.000000</td>\n",
       "    </tr>\n",
       "    <tr>\n",
       "      <th>1</th>\n",
       "      <td>OLS Regressor</td>\n",
       "      <td>593433.025501</td>\n",
       "      <td>0.328366</td>\n",
       "    </tr>\n",
       "    <tr>\n",
       "      <th>2</th>\n",
       "      <td>Lasso alpha 1</td>\n",
       "      <td>593427.350637</td>\n",
       "      <td>0.328379</td>\n",
       "    </tr>\n",
       "    <tr>\n",
       "      <th>3</th>\n",
       "      <td>GLS (Poisson)</td>\n",
       "      <td>724108.894367</td>\n",
       "      <td>0.000000</td>\n",
       "    </tr>\n",
       "    <tr>\n",
       "      <th>4</th>\n",
       "      <td>Quadratic Model</td>\n",
       "      <td>531701.343262</td>\n",
       "      <td>0.460832</td>\n",
       "    </tr>\n",
       "  </tbody>\n",
       "</table>\n",
       "</div>"
      ],
      "text/plain": [
       "             model  RMSE_validate  r^2_validate\n",
       "0  median_baseline  736290.584878      0.000000\n",
       "1    OLS Regressor  593433.025501      0.328366\n",
       "2    Lasso alpha 1  593427.350637      0.328379\n",
       "3    GLS (Poisson)  724108.894367      0.000000\n",
       "4  Quadratic Model  531701.343262      0.460832"
      ]
     },
     "execution_count": 30,
     "metadata": {},
     "output_type": "execute_result"
    }
   ],
   "source": [
    "metric_df = pd.DataFrame(data=[{\n",
    "    'model': 'median_baseline', \n",
    "    'RMSE_validate': rmse_validate,\n",
    "    'r^2_validate': explained_variance_score(y_validate.tax_value, y_validate.baseline_median)}])\n",
    "metric_df = metric_df.append({\n",
    "    'model': 'OLS Regressor', \n",
    "    'RMSE_validate': rmse_validate_lm,\n",
    "    'r^2_validate': explained_variance_score(y_validate.tax_value, y_validate.pred_lm)}, ignore_index=True)\n",
    "metric_df = metric_df.append({\n",
    "    'model': 'Lasso alpha 1', \n",
    "    'RMSE_validate': rmse_validate_lars,\n",
    "    'r^2_validate': explained_variance_score(y_validate.tax_value, y_validate.pred_lars)}, ignore_index=True)\n",
    "metric_df = metric_df.append({\n",
    "    'model': 'GLS (Poisson)', \n",
    "    'RMSE_validate': rmse_validate_glm,\n",
    "    'r^2_validate': explained_variance_score(y_validate.tax_value, y_validate.pred_glm)}, ignore_index=True)\n",
    "metric_df = metric_df.append({\n",
    "    'model': 'Quadratic Model', \n",
    "    'RMSE_validate': rmse_validate_lm2,\n",
    "    'r^2_validate': explained_variance_score(y_validate.tax_value, y_validate.pred_lm2)}, ignore_index=True)\n",
    "metric_df"
   ]
  },
  {
   "cell_type": "markdown",
   "id": "9034893b",
   "metadata": {},
   "source": [
    "### Test"
   ]
  },
  {
   "cell_type": "code",
   "execution_count": 33,
   "id": "e6bc7871",
   "metadata": {},
   "outputs": [
    {
     "name": "stdout",
     "output_type": "stream",
     "text": [
      "\n",
      "RMSE for Polynomial Regressor, degrees=2:\n",
      "    \n",
      "Test/Out-of-Sample Performance: 433741.44914605323\n",
      "\n"
     ]
    }
   ],
   "source": [
    "y_test = pd.DataFrame(y_test)\n",
    "#predict on test\n",
    "y_test['pred_lm2'] = lm2.predict(X_test_degree2)\n",
    "# evaluate: rmse\n",
    "rmse_test = mean_squared_error(y_test.tax_value, y_test.pred_lm2)**(0.5)\n",
    "\n",
    "print(f\"\"\"\n",
    "RMSE for Polynomial Regressor, degrees=2:\n",
    "    \n",
    "Test/Out-of-Sample Performance: {rmse_test}\n",
    "\"\"\")"
   ]
  },
  {
   "cell_type": "code",
   "execution_count": 34,
   "id": "fc07fa70",
   "metadata": {},
   "outputs": [
    {
     "data": {
      "text/html": [
       "<div>\n",
       "<style scoped>\n",
       "    .dataframe tbody tr th:only-of-type {\n",
       "        vertical-align: middle;\n",
       "    }\n",
       "\n",
       "    .dataframe tbody tr th {\n",
       "        vertical-align: top;\n",
       "    }\n",
       "\n",
       "    .dataframe thead th {\n",
       "        text-align: right;\n",
       "    }\n",
       "</style>\n",
       "<table border=\"1\" class=\"dataframe\">\n",
       "  <thead>\n",
       "    <tr style=\"text-align: right;\">\n",
       "      <th></th>\n",
       "      <th>bedrooms</th>\n",
       "      <th>bathrooms</th>\n",
       "      <th>square_feet</th>\n",
       "      <th>tax_value</th>\n",
       "    </tr>\n",
       "    <tr>\n",
       "      <th>parcelid</th>\n",
       "      <th></th>\n",
       "      <th></th>\n",
       "      <th></th>\n",
       "      <th></th>\n",
       "    </tr>\n",
       "  </thead>\n",
       "  <tbody>\n",
       "    <tr>\n",
       "      <th>17228134</th>\n",
       "      <td>3</td>\n",
       "      <td>2.0</td>\n",
       "      <td>1888.0</td>\n",
       "      <td>246735.0</td>\n",
       "    </tr>\n",
       "    <tr>\n",
       "      <th>11357458</th>\n",
       "      <td>3</td>\n",
       "      <td>2.0</td>\n",
       "      <td>1484.0</td>\n",
       "      <td>149689.0</td>\n",
       "    </tr>\n",
       "    <tr>\n",
       "      <th>17153382</th>\n",
       "      <td>2</td>\n",
       "      <td>2.0</td>\n",
       "      <td>1937.0</td>\n",
       "      <td>540544.0</td>\n",
       "    </tr>\n",
       "    <tr>\n",
       "      <th>14682419</th>\n",
       "      <td>3</td>\n",
       "      <td>3.0</td>\n",
       "      <td>1526.0</td>\n",
       "      <td>630000.0</td>\n",
       "    </tr>\n",
       "    <tr>\n",
       "      <th>10914366</th>\n",
       "      <td>2</td>\n",
       "      <td>2.0</td>\n",
       "      <td>1114.0</td>\n",
       "      <td>460475.0</td>\n",
       "    </tr>\n",
       "    <tr>\n",
       "      <th>...</th>\n",
       "      <td>...</td>\n",
       "      <td>...</td>\n",
       "      <td>...</td>\n",
       "      <td>...</td>\n",
       "    </tr>\n",
       "    <tr>\n",
       "      <th>11644337</th>\n",
       "      <td>3</td>\n",
       "      <td>4.0</td>\n",
       "      <td>4422.0</td>\n",
       "      <td>2101164.0</td>\n",
       "    </tr>\n",
       "    <tr>\n",
       "      <th>13926156</th>\n",
       "      <td>3</td>\n",
       "      <td>2.0</td>\n",
       "      <td>2318.0</td>\n",
       "      <td>258508.0</td>\n",
       "    </tr>\n",
       "    <tr>\n",
       "      <th>14306263</th>\n",
       "      <td>3</td>\n",
       "      <td>2.0</td>\n",
       "      <td>1538.0</td>\n",
       "      <td>718578.0</td>\n",
       "    </tr>\n",
       "    <tr>\n",
       "      <th>14654702</th>\n",
       "      <td>2</td>\n",
       "      <td>2.0</td>\n",
       "      <td>1389.0</td>\n",
       "      <td>153369.0</td>\n",
       "    </tr>\n",
       "    <tr>\n",
       "      <th>11119353</th>\n",
       "      <td>4</td>\n",
       "      <td>3.0</td>\n",
       "      <td>2071.0</td>\n",
       "      <td>499747.0</td>\n",
       "    </tr>\n",
       "  </tbody>\n",
       "</table>\n",
       "<p>43261 rows × 4 columns</p>\n",
       "</div>"
      ],
      "text/plain": [
       "          bedrooms  bathrooms  square_feet  tax_value\n",
       "parcelid                                             \n",
       "17228134         3        2.0       1888.0   246735.0\n",
       "11357458         3        2.0       1484.0   149689.0\n",
       "17153382         2        2.0       1937.0   540544.0\n",
       "14682419         3        3.0       1526.0   630000.0\n",
       "10914366         2        2.0       1114.0   460475.0\n",
       "...            ...        ...          ...        ...\n",
       "11644337         3        4.0       4422.0  2101164.0\n",
       "13926156         3        2.0       2318.0   258508.0\n",
       "14306263         3        2.0       1538.0   718578.0\n",
       "14654702         2        2.0       1389.0   153369.0\n",
       "11119353         4        3.0       2071.0   499747.0\n",
       "\n",
       "[43261 rows x 4 columns]"
      ]
     },
     "execution_count": 34,
     "metadata": {},
     "output_type": "execute_result"
    }
   ],
   "source": [
    "train"
   ]
  },
  {
   "cell_type": "markdown",
   "id": "a782a8c1",
   "metadata": {},
   "source": [
    "## Acquire More Data for Model\n",
    "- same dataset from the beginning, but this time I will keep more variables"
   ]
  },
  {
   "cell_type": "code",
   "execution_count": 36,
   "id": "e0486e85",
   "metadata": {},
   "outputs": [],
   "source": [
    "df = wrangle.clean_zillow(wrangle.get_zillow_data())"
   ]
  },
  {
   "cell_type": "code",
   "execution_count": 37,
   "id": "136c70b6",
   "metadata": {},
   "outputs": [
    {
     "name": "stdout",
     "output_type": "stream",
     "text": [
      "column: bedrooms \n",
      "IQR: 3.0 \n",
      "Upper bound: 8.5 \n",
      "Lower bound: -2.5 \n",
      "\n",
      "column: bathrooms \n",
      "IQR: 1.5 \n",
      "Upper bound: 5.25 \n",
      "Lower bound: -0.25 \n",
      "\n",
      "column: square_feet \n",
      "IQR: 1350.0 \n",
      "Upper bound: 4102.0 \n",
      "Lower bound: -848.0 \n",
      "\n",
      "column: tax_value \n",
      "IQR: 514925.25 \n",
      "Upper bound: 1318084.875 \n",
      "Lower bound: -569974.375 \n",
      "\n"
     ]
    }
   ],
   "source": [
    "#handle outliers\n",
    "columns = ['bedrooms', 'bathrooms','square_feet', 'tax_value']\n",
    "for x in columns:\n",
    "    \n",
    "    Q1 = df[x].quantile(0.25)\n",
    "    Q3 = df[x].quantile(0.75)\n",
    "    IQR = (Q3 - Q1) * 1.5\n",
    "    upper = Q3 + (1.5 * IQR)\n",
    "    lower = Q1 - (1.5 * IQR)\n",
    "    df = df[df[x] < (upper)]\n",
    "    \n",
    "    print('column:', x,'\\nIQR:', IQR, '\\nUpper bound:', upper, '\\nLower bound:', lower, '\\n')"
   ]
  },
  {
   "cell_type": "code",
   "execution_count": 38,
   "id": "90cb8314",
   "metadata": {},
   "outputs": [],
   "source": [
    "#features that will be dropped for this iteration\n",
    "df.drop(['county', 'zip_code', 'latitude', 'longitude', 'taxamount'], axis=1, inplace=True)\n",
    "#change fips to object so it doesnt get scaled later\n",
    "df['fips'] = df['fips'].astype(object)"
   ]
  },
  {
   "cell_type": "markdown",
   "id": "314d4d82",
   "metadata": {},
   "source": [
    "# Explore\n",
    "#### Split"
   ]
  },
  {
   "cell_type": "code",
   "execution_count": 39,
   "id": "cf2b16fe",
   "metadata": {},
   "outputs": [],
   "source": [
    "train, validate, test, X_train, y_train, X_validate, y_validate, X_test, y_test = wrangle.train_validate_test_split(df,'tax_value', 123)"
   ]
  },
  {
   "cell_type": "markdown",
   "id": "c5fc2510",
   "metadata": {},
   "source": [
    "#### Scale"
   ]
  },
  {
   "cell_type": "code",
   "execution_count": 40,
   "id": "175d367c",
   "metadata": {},
   "outputs": [],
   "source": [
    "scaler, X_train_scaled, X_validate_scaled, X_test_scaled = wrangle.Standard_Scaler(X_train, X_validate, X_test)"
   ]
  },
  {
   "cell_type": "markdown",
   "id": "6a4cbdd9",
   "metadata": {},
   "source": [
    "## Univariate takeways:\n",
    "   I used my explore_univariate function from my explore.py module (visuals shown in workbook)\n",
    "- Los Angeles properties dominated the dataset with ~ 65% of the properties coming from this county\n",
    "- Mean property age is ~ 53 years"
   ]
  },
  {
   "cell_type": "code",
   "execution_count": 41,
   "id": "a96cfdc4",
   "metadata": {},
   "outputs": [
    {
     "data": {
      "image/png": "[encoded data removed]",
      "text/plain": [
       "<Figure size 748.8x514.8 with 1 Axes>"
      ]
     },
     "metadata": {
      "needs_background": "light"
     },
     "output_type": "display_data"
    }
   ],
   "source": [
    "sns.histplot(data=train, x=\"tax_value\", hue = 'fips')\n",
    "plt.title('Distribution of Tax Rates');"
   ]
  },
  {
   "cell_type": "markdown",
   "id": "d1423830",
   "metadata": {},
   "source": [
    "## LA has the highest tax value followed by OC, then VC"
   ]
  },
  {
   "cell_type": "code",
   "execution_count": 42,
   "id": "545aa23e",
   "metadata": {},
   "outputs": [
    {
     "data": {
      "image/png": "[encoded data removed]",
      "text/plain": [
       "<Figure size 748.8x514.8 with 1 Axes>"
      ]
     },
     "metadata": {
      "needs_background": "light"
     },
     "output_type": "display_data"
    }
   ],
   "source": [
    "sns.histplot(data=train, x=\"property_age\", hue = 'fips')\n",
    "plt.title('Distribution of Tax Rates across Property Age');"
   ]
  },
  {
   "cell_type": "markdown",
   "id": "ac60920f",
   "metadata": {},
   "source": [
    "### Majority of homes older than 60 years seem to be concentrated in LA."
   ]
  },
  {
   "cell_type": "markdown",
   "id": "670ac64d",
   "metadata": {},
   "source": [
    "### According to ttest, there is a difference between the mean tax values of LA and OC\n",
    "## Feature Engineering"
   ]
  },
  {
   "cell_type": "markdown",
   "id": "52a8f50a",
   "metadata": {},
   "source": [
    "### Feature Engineering Takeaways:\n",
    "- top 3 features are bedrooms, bathrooms, and square feet which we explored earlier\n",
    "- next features to explore are yearbuilt and property age"
   ]
  },
  {
   "cell_type": "code",
   "execution_count": 44,
   "id": "b129d567",
   "metadata": {},
   "outputs": [
    {
     "data": {
      "text/html": [
       "<div>\n",
       "<style scoped>\n",
       "    .dataframe tbody tr th:only-of-type {\n",
       "        vertical-align: middle;\n",
       "    }\n",
       "\n",
       "    .dataframe tbody tr th {\n",
       "        vertical-align: top;\n",
       "    }\n",
       "\n",
       "    .dataframe thead th {\n",
       "        text-align: right;\n",
       "    }\n",
       "</style>\n",
       "<table border=\"1\" class=\"dataframe\">\n",
       "  <thead>\n",
       "    <tr style=\"text-align: right;\">\n",
       "      <th></th>\n",
       "      <th>tax_value</th>\n",
       "    </tr>\n",
       "    <tr>\n",
       "      <th>parcelid</th>\n",
       "      <th></th>\n",
       "    </tr>\n",
       "  </thead>\n",
       "  <tbody>\n",
       "    <tr>\n",
       "      <th>12815320</th>\n",
       "      <td>581233.0</td>\n",
       "    </tr>\n",
       "    <tr>\n",
       "      <th>11490249</th>\n",
       "      <td>575755.0</td>\n",
       "    </tr>\n",
       "    <tr>\n",
       "      <th>11695472</th>\n",
       "      <td>137258.0</td>\n",
       "    </tr>\n",
       "    <tr>\n",
       "      <th>12960692</th>\n",
       "      <td>437512.0</td>\n",
       "    </tr>\n",
       "    <tr>\n",
       "      <th>13057060</th>\n",
       "      <td>646000.0</td>\n",
       "    </tr>\n",
       "  </tbody>\n",
       "</table>\n",
       "</div>"
      ],
      "text/plain": [
       "          tax_value\n",
       "parcelid           \n",
       "12815320   581233.0\n",
       "11490249   575755.0\n",
       "11695472   137258.0\n",
       "12960692   437512.0\n",
       "13057060   646000.0"
      ]
     },
     "execution_count": 44,
     "metadata": {},
     "output_type": "execute_result"
    }
   ],
   "source": [
    "#Create a Handy DataFrame for Evaluating Your Models or Model and Baseline Value.\n",
    "#turn series into df\n",
    "y_train = pd.DataFrame(y_train)\n",
    "y_validate = pd.DataFrame(y_validate)\n",
    "y_train.head()"
   ]
  },
  {
   "cell_type": "markdown",
   "id": "1a64aab0",
   "metadata": {},
   "source": [
    "### Baseline"
   ]
  },
  {
   "cell_type": "code",
   "execution_count": 45,
   "id": "f3a0725d",
   "metadata": {},
   "outputs": [],
   "source": [
    "# predict the median for ytrain and yvalidate\n",
    "baseline_median = y_train['tax_value'].median()\n",
    "y_train['baseline_median'] = baseline_median\n",
    "y_validate['baseline_median'] = baseline_median\n",
    "#predict the mean for ytrain and yvalidate\n",
    "baseline_mean = y_train['tax_value'].mean()\n",
    "y_train['baseline_mean'] = baseline_mean\n",
    "y_validate['baseline_mean'] = baseline_mean"
   ]
  },
  {
   "cell_type": "code",
   "execution_count": 46,
   "id": "e7ea8951",
   "metadata": {},
   "outputs": [
    {
     "data": {
      "image/png": "[encoded data removed]",
      "text/plain": [
       "<Figure size 748.8x514.8 with 1 Axes>"
      ]
     },
     "metadata": {
      "needs_background": "light"
     },
     "output_type": "display_data"
    }
   ],
   "source": [
    "model.plot_residuals(y_train.tax_value, y_train.baseline_mean)"
   ]
  },
  {
   "cell_type": "code",
   "execution_count": 47,
   "id": "b34d1770",
   "metadata": {},
   "outputs": [
    {
     "data": {
      "image/png": "[encoded data removed]",
      "text/plain": [
       "<Figure size 748.8x514.8 with 1 Axes>"
      ]
     },
     "metadata": {
      "needs_background": "light"
     },
     "output_type": "display_data"
    }
   ],
   "source": [
    "model.plot_residuals(y_train.tax_value, y_train.baseline_median)"
   ]
  },
  {
   "cell_type": "code",
   "execution_count": 48,
   "id": "859bf35f",
   "metadata": {},
   "outputs": [
    {
     "data": {
      "text/plain": [
       "{'sse': 2669874206269131.0,\n",
       " 'mse': 65640807549.51888,\n",
       " 'rmse': 256204.62046871614}"
      ]
     },
     "execution_count": 48,
     "metadata": {},
     "output_type": "execute_result"
    }
   ],
   "source": [
    "#Evaluate the baseline model using the mean\n",
    "model.baseline_mean_errors(y_train.tax_value)"
   ]
  },
  {
   "cell_type": "code",
   "execution_count": 49,
   "id": "b933fd14",
   "metadata": {},
   "outputs": [
    {
     "data": {
      "text/plain": [
       "{'sse': 2762248820911300.5,\n",
       " 'mse': 67911904924.79964,\n",
       " 'rmse': 260599.1268688359}"
      ]
     },
     "execution_count": 49,
     "metadata": {},
     "output_type": "execute_result"
    }
   ],
   "source": [
    "#Evaluate the baseline model using the median\n",
    "model.baseline_median_errors(y_train.tax_value)"
   ]
  },
  {
   "cell_type": "code",
   "execution_count": 50,
   "id": "c063bfb0",
   "metadata": {},
   "outputs": [
    {
     "name": "stdout",
     "output_type": "stream",
     "text": [
      "RMSE using Mean\n",
      "Train/In-Sample:  256204.62 \n",
      "Validate/Out-of-Sample:  256297.67\n"
     ]
    }
   ],
   "source": [
    "# RMSE of pred_mean\n",
    "rmse_train = mean_squared_error(y_train.tax_value, y_train.baseline_mean) ** .5\n",
    "rmse_validate = mean_squared_error(y_validate.tax_value, y_validate.baseline_mean) ** (1/2)\n",
    "\n",
    "print(\"RMSE using Mean\\nTrain/In-Sample: \", round(rmse_train, 2), \n",
    "      \"\\nValidate/Out-of-Sample: \", round(rmse_validate, 2))"
   ]
  },
  {
   "cell_type": "code",
   "execution_count": 51,
   "id": "d7000d94",
   "metadata": {},
   "outputs": [
    {
     "name": "stdout",
     "output_type": "stream",
     "text": [
      "RMSE using Median\n",
      "Train/In-Sample:  260599.13 \n",
      "Validate/Out-of-Sample:  260371.98\n"
     ]
    }
   ],
   "source": [
    "#RMSE of pred_median\n",
    "rmse_train = mean_squared_error(y_train.tax_value, y_train.baseline_median) ** .5\n",
    "rmse_validate = mean_squared_error(y_validate.tax_value, y_validate.baseline_median) ** .5\n",
    "print(\"RMSE using Median\\nTrain/In-Sample: \", round(rmse_train, 2), \n",
    "      \"\\nValidate/Out-of-Sample: \", round(rmse_validate, 2))"
   ]
  },
  {
   "cell_type": "code",
   "execution_count": 52,
   "id": "ce972587",
   "metadata": {},
   "outputs": [],
   "source": [
    "#going to use mean"
   ]
  },
  {
   "cell_type": "markdown",
   "id": "166ae8a9",
   "metadata": {},
   "source": [
    "## Train and Validate\n",
    "### Linear Regression OLS"
   ]
  },
  {
   "cell_type": "code",
   "execution_count": 53,
   "id": "9252e1f3",
   "metadata": {},
   "outputs": [],
   "source": [
    "#make the thing\n",
    "lm = LinearRegression(normalize=True)\n",
    "#fit the thing\n",
    "#only fit on training\n",
    "lm.fit(X_train, y_train.tax_value)\n",
    "#use the thing\n",
    "y_train['pred_lm'] = lm.predict(X_train)\n",
    "y_train.head()\n",
    "\n",
    "rmse_train_lm = mean_squared_error(y_train.tax_value, y_train.pred_lm)**(0.5)\n",
    "# predict validate\n",
    "y_validate['pred_lm'] = lm.predict(X_validate)\n",
    "# evaluate: rmse\n",
    "rmse_validate_lm = mean_squared_error(y_validate.tax_value, y_validate.pred_lm)**(0.5)"
   ]
  },
  {
   "cell_type": "markdown",
   "id": "70f0b763",
   "metadata": {},
   "source": [
    "### Lasso Lars"
   ]
  },
  {
   "cell_type": "code",
   "execution_count": 54,
   "id": "d3014ff2",
   "metadata": {},
   "outputs": [],
   "source": [
    "#make the thing\n",
    "lars = LassoLars(alpha=1.0)\n",
    "#fit the thing\n",
    "lars.fit(X_train, y_train.tax_value)\n",
    "#predict the thing: train\n",
    "y_train['pred_lars'] = lars.predict(X_train)\n",
    "# evaluate: rmse\n",
    "rmse_train_lars = mean_squared_error(y_train.tax_value, y_train.pred_lars)**(0.5)\n",
    "# predict the thing: validate\n",
    "y_validate['pred_lars'] = lars.predict(X_validate)\n",
    "# evaluate: rmse\n",
    "rmse_validate_lars = mean_squared_error(y_validate.tax_value, y_validate.pred_lars)**(0.5)"
   ]
  },
  {
   "cell_type": "markdown",
   "id": "0d4fccf2",
   "metadata": {},
   "source": [
    "### Tweedie Regressor"
   ]
  },
  {
   "cell_type": "code",
   "execution_count": 55,
   "id": "6208463a",
   "metadata": {},
   "outputs": [],
   "source": [
    "#make the thing\n",
    "glm = TweedieRegressor(power=1, alpha=0)\n",
    "#fit the thing \n",
    "glm.fit(X_train, y_train.tax_value)\n",
    "#predict the thing: train\n",
    "y_train['pred_glm'] = glm.predict(X_train)\n",
    "# evaluate: rmse\n",
    "rmse_train_glm = mean_squared_error(y_train.tax_value, y_train.pred_glm)**(0.5)\n",
    "#predict the thing: validate\n",
    "# predict validate\n",
    "y_validate['pred_glm'] = glm.predict(X_validate)\n",
    "# evaluate: rmse\n",
    "rmse_validate_glm = mean_squared_error(y_validate.tax_value, y_validate.pred_glm)**(0.5)"
   ]
  },
  {
   "cell_type": "markdown",
   "id": "83625c07",
   "metadata": {},
   "source": [
    "### Polynomial Regression"
   ]
  },
  {
   "cell_type": "code",
   "execution_count": 56,
   "id": "2547bce3",
   "metadata": {},
   "outputs": [],
   "source": [
    "# make the polynomial features to get a new set of features\n",
    "pf = PolynomialFeatures(degree=2)\n",
    "# fit and transform X_train_scaled\n",
    "X_train_degree2 = pf.fit_transform(X_train)\n",
    "# transform X_validate_scaled & X_test_scaled\n",
    "X_validate_degree2 = pf.transform(X_validate)\n",
    "X_test_degree2 = pf.transform(X_test)\n",
    "# create the model object\n",
    "lm2 = LinearRegression(normalize=True)\n",
    "# fit the model to our training data. We must specify the column in y_train, \n",
    "# since we have converted it to a dataframe from a series! \n",
    "lm2.fit(X_train_degree2, y_train.tax_value)\n",
    "# predict train\n",
    "y_train['pred_lm2'] = lm2.predict(X_train_degree2)\n",
    "# evaluate: rmse\n",
    "rmse_train_lm2 = mean_squared_error(y_train.tax_value, y_train.pred_lm2)**(0.5)\n",
    "# predict validate\n",
    "y_validate['pred_lm2'] = lm2.predict(X_validate_degree2)\n",
    "# evaluate: rmse\n",
    "rmse_validate_lm2 = mean_squared_error(y_validate.tax_value, y_validate.pred_lm2)**(0.5)"
   ]
  },
  {
   "cell_type": "code",
   "execution_count": 57,
   "id": "07aea62d",
   "metadata": {},
   "outputs": [
    {
     "name": "stdout",
     "output_type": "stream",
     "text": [
      "\n",
      "BASELINE:\n",
      "              \n",
      "RMSE using Median\n",
      "Train/In-Sample: 260599.13\n",
      "Validate/Out-of-Sample: 260371.98\n",
      "------------------------------------\n",
      "RMSE for OLS using LinearRegression:\n",
      "    \n",
      "Training/In-Sample: 213578.33\n",
      "Validation/Out-of-Sample: 213554.13\n",
      "------------------------------------\n",
      "RMSE for LassoLars:\n",
      "\n",
      "Training/In-Sample: 213567.0\n",
      "Validation/Out-of-Sample: 213555.93\n",
      "------------------------------------\n",
      "RMSE for GLM using Tweedie, power=1 & alpha=0:\n",
      "\n",
      "Training/In-Sample: 256204.62\n",
      "Validation/Out-of-Sample: 256297.67\n",
      "------------------------------------\n",
      "RMSE for Polynomial Model, degrees=2:\n",
      "\n",
      "Training/In-Sample: 201985.91\n",
      "Validation/Out-of-Sample: 203419.5\n",
      "\n",
      "\n"
     ]
    }
   ],
   "source": [
    "print(f'''\n",
    "BASELINE:\n",
    "              \n",
    "RMSE using Median\n",
    "Train/In-Sample: {round(rmse_train, 2)}\n",
    "Validate/Out-of-Sample: {round(rmse_validate, 2)}\n",
    "------------------------------------\n",
    "RMSE for OLS using LinearRegression:\n",
    "    \n",
    "Training/In-Sample: {round(rmse_train_lm, 2)}\n",
    "Validation/Out-of-Sample: {round(rmse_validate_lm, 2)}\n",
    "------------------------------------\n",
    "RMSE for LassoLars:\n",
    "\n",
    "Training/In-Sample: {round(rmse_train_lars, 2)}\n",
    "Validation/Out-of-Sample: {round(rmse_validate_lars, 2)}\n",
    "------------------------------------\n",
    "RMSE for GLM using Tweedie, power=1 & alpha=0:\n",
    "\n",
    "Training/In-Sample: {round(rmse_train_glm, 2)}\n",
    "Validation/Out-of-Sample: {round(rmse_validate_glm, 2)}\n",
    "------------------------------------\n",
    "RMSE for Polynomial Model, degrees=2:\n",
    "\n",
    "Training/In-Sample: {round(rmse_train_lm2, 2)}\n",
    "Validation/Out-of-Sample: {round(rmse_validate_lm2, 2)}\n",
    "\n",
    "''')"
   ]
  },
  {
   "cell_type": "markdown",
   "id": "4970aad3",
   "metadata": {},
   "source": [
    "## Evaluate"
   ]
  },
  {
   "cell_type": "code",
   "execution_count": 58,
   "id": "d5419e2d",
   "metadata": {},
   "outputs": [
    {
     "data": {
      "image/png": "[encoded data removed]",
      "text/plain": [
       "<Figure size 1152x576 with 1 Axes>"
      ]
     },
     "metadata": {
      "needs_background": "light"
     },
     "output_type": "display_data"
    }
   ],
   "source": [
    "# y_validate.head()\n",
    "plt.figure(figsize=(16,8))\n",
    "plt.plot(y_validate.tax_value, y_validate.baseline_mean, alpha=.5, color=\"gray\", label='_nolegend_')\n",
    "plt.annotate(\"Baseline: Predict Using Mean\", (16, 9.5))\n",
    "plt.plot(y_validate.tax_value, y_validate.tax_value, alpha=.5, color=\"blue\", label='_nolegend_')\n",
    "plt.annotate(\"The Ideal Line: Predicted = Actual\", (.5, 3.5), rotation=15.5)\n",
    "\n",
    "plt.scatter(y_validate.tax_value, y_validate.pred_lm, \n",
    "            alpha=.5, color=\"orange\", s=100, label=\"Model: LinearRegression\")\n",
    "plt.scatter(y_validate.tax_value, y_validate.pred_glm, \n",
    "            alpha=.5, color=\"blue\", s=100, label=\"Model: TweedieRegressor\")\n",
    "plt.scatter(y_validate.tax_value, y_validate.pred_lm2, \n",
    "            alpha=.5, color=\"yellow\", s=100, label=\"Model 2nd degree Polynomial\")\n",
    "plt.legend()\n",
    "plt.xlabel(\"Actual Tax Value\")\n",
    "plt.ylabel(\"Predicted Tax Value\")\n",
    "plt.title(\"Where are predictions more extreme? More modest?\")\n",
    "# plt.annotate(\"The polynomial model appears to overreact to noise\", (2.0, -10))\n",
    "# plt.annotate(\"The OLS model (LinearRegression)\\n appears to be most consistent\", (15.5, 3))\n",
    "plt.show()"
   ]
  },
  {
   "cell_type": "code",
   "execution_count": 59,
   "id": "7878080b",
   "metadata": {},
   "outputs": [],
   "source": [
    "metric_df = pd.DataFrame(data=[{\n",
    "    'model': 'mean_baseline', \n",
    "    'RMSE_validate': rmse_validate,\n",
    "    'r^2_validate': explained_variance_score(y_validate.tax_value, y_validate.baseline_mean)}])\n",
    "metric_df = metric_df.append({\n",
    "    'model': 'OLS Regressor', \n",
    "    'RMSE_validate': rmse_validate_lm,\n",
    "    'r^2_validate': explained_variance_score(y_validate.tax_value, y_validate.pred_lm)}, ignore_index=True)\n",
    "metric_df = metric_df.append({\n",
    "    'model': 'Lasso alpha 1', \n",
    "    'RMSE_validate': rmse_validate_lars,\n",
    "    'r^2_validate': explained_variance_score(y_validate.tax_value, y_validate.pred_lars)}, ignore_index=True)\n",
    "metric_df = metric_df.append({\n",
    "    'model': 'GLS (Poisson)', \n",
    "    'RMSE_validate': rmse_validate_glm,\n",
    "    'r^2_validate': explained_variance_score(y_validate.tax_value, y_validate.pred_glm)}, ignore_index=True)\n",
    "metric_df = metric_df.append({\n",
    "    'model': 'Quadratic Model', \n",
    "    'RMSE_validate': rmse_validate_lm2,\n",
    "    'r^2_validate': explained_variance_score(y_validate.tax_value, y_validate.pred_lm2)}, ignore_index=True)"
   ]
  },
  {
   "cell_type": "code",
   "execution_count": 60,
   "id": "c3b76e7e",
   "metadata": {},
   "outputs": [
    {
     "data": {
      "text/html": [
       "<div>\n",
       "<style scoped>\n",
       "    .dataframe tbody tr th:only-of-type {\n",
       "        vertical-align: middle;\n",
       "    }\n",
       "\n",
       "    .dataframe tbody tr th {\n",
       "        vertical-align: top;\n",
       "    }\n",
       "\n",
       "    .dataframe thead th {\n",
       "        text-align: right;\n",
       "    }\n",
       "</style>\n",
       "<table border=\"1\" class=\"dataframe\">\n",
       "  <thead>\n",
       "    <tr style=\"text-align: right;\">\n",
       "      <th></th>\n",
       "      <th>model</th>\n",
       "      <th>RMSE_validate</th>\n",
       "      <th>r^2_validate</th>\n",
       "    </tr>\n",
       "  </thead>\n",
       "  <tbody>\n",
       "    <tr>\n",
       "      <th>0</th>\n",
       "      <td>mean_baseline</td>\n",
       "      <td>260371.981338</td>\n",
       "      <td>0.000000</td>\n",
       "    </tr>\n",
       "    <tr>\n",
       "      <th>1</th>\n",
       "      <td>OLS Regressor</td>\n",
       "      <td>213554.133920</td>\n",
       "      <td>0.305706</td>\n",
       "    </tr>\n",
       "    <tr>\n",
       "      <th>2</th>\n",
       "      <td>Lasso alpha 1</td>\n",
       "      <td>213555.925117</td>\n",
       "      <td>0.305692</td>\n",
       "    </tr>\n",
       "    <tr>\n",
       "      <th>3</th>\n",
       "      <td>GLS (Poisson)</td>\n",
       "      <td>256297.668893</td>\n",
       "      <td>0.000000</td>\n",
       "    </tr>\n",
       "    <tr>\n",
       "      <th>4</th>\n",
       "      <td>Quadratic Model</td>\n",
       "      <td>203419.504889</td>\n",
       "      <td>0.370039</td>\n",
       "    </tr>\n",
       "  </tbody>\n",
       "</table>\n",
       "</div>"
      ],
      "text/plain": [
       "             model  RMSE_validate  r^2_validate\n",
       "0    mean_baseline  260371.981338      0.000000\n",
       "1    OLS Regressor  213554.133920      0.305706\n",
       "2    Lasso alpha 1  213555.925117      0.305692\n",
       "3    GLS (Poisson)  256297.668893      0.000000\n",
       "4  Quadratic Model  203419.504889      0.370039"
      ]
     },
     "execution_count": 60,
     "metadata": {},
     "output_type": "execute_result"
    }
   ],
   "source": [
    "metric_df"
   ]
  },
  {
   "cell_type": "markdown",
   "id": "5bb549db",
   "metadata": {},
   "source": [
    "## TEST OUR BEST\n",
    "- The best model was the polynomial model again with r^2 of 0.37, so we will test on this model"
   ]
  },
  {
   "cell_type": "code",
   "execution_count": 62,
   "id": "f6453265",
   "metadata": {},
   "outputs": [
    {
     "name": "stdout",
     "output_type": "stream",
     "text": [
      "\n",
      "RMSE for Polynomial Regressor, degrees = 2:\n",
      "    \n",
      "Test/Out-of-Sample Performance: 200650.39789719708\n",
      "\n"
     ]
    }
   ],
   "source": [
    "y_test = pd.DataFrame(y_test)\n",
    "\n",
    "#predict on test\n",
    "y_test['pred_lm2'] = lm2.predict(X_test_degree2)\n",
    "\n",
    "# evaluate: rmse\n",
    "rmse_test = mean_squared_error(y_test.tax_value, y_test.pred_lm2)**(0.5)\n",
    "\n",
    "print(f\"\"\"\n",
    "RMSE for Polynomial Regressor, degrees = 2:\n",
    "    \n",
    "Test/Out-of-Sample Performance: {rmse_test}\n",
    "\"\"\")"
   ]
  },
  {
   "cell_type": "markdown",
   "id": "807c3778",
   "metadata": {},
   "source": [
    "## Final Recommendation and Takeaways:\n",
    "### Takeaways from Evaluating Test Data on RMSE for Polynomial Model, degrees = 2\n",
    "- Recommend using the Polynomial Regression Model (degree of 2) to predict home values based on bathroom count, age of home, square footage and zip code.\n",
    "\n",
    "- Note: Scatterplot visualization demonstrates that our model tends to under-value homes that exceed the median tax value of about 408K\n",
    "\n",
    "### Given more Time and Resources, I would:\n",
    "- Fine tune feature engineering, perhaps combining some features, to increase accuracy.\n",
    "- Since there was little difference in the RMSE for mean and median, I would re-run models using median as baseline, whereas median was 399k which may be more representative\n",
    "- Reconfigure many of my explorations and modeling code into as functions, to clean up notebook and increase reproducibility of results"
   ]
  }
 ],
 "metadata": {
  "kernelspec": {
   "display_name": "Python 3.8.8 64-bit ('base': conda)",
   "language": "python",
   "name": "python388jvsc74a57bd0b64057e63add2b45b1ffc7eab9b09c8889b419c878e2fdf0d08f837f0fc857a7"
  },
  "language_info": {
   "codemirror_mode": {
    "name": "ipython",
    "version": 3
   },
   "file_extension": ".py",
   "mimetype": "text/x-python",
   "name": "python",
   "nbconvert_exporter": "python",
   "pygments_lexer": "ipython3",
   "version": "3.8.8"
  }
 },
 "nbformat": 4,
 "nbformat_minor": 5
}
